{
 "cells": [
  {
   "cell_type": "markdown",
   "id": "530e298b",
   "metadata": {},
   "source": [
    "## 02 - Data Cleaning Pipeline\n",
    "\n",
    "This notebook focuses on cleaning and standardizing the storage company datasets.  \n",
    "The goal is to prepare clean, consistent data ready for analysis or dashboarding.\n"
   ]
  },
  {
   "cell_type": "code",
   "execution_count": 1,
   "id": "999572d1",
   "metadata": {},
   "outputs": [],
   "source": [
    "# Imports\n",
    "import pandas as pd\n",
    "import numpy as np\n",
    "import os\n",
    "\n",
    "data_path = \"../Data\"\n",
    "\n",
    "customers = pd.read_csv(os.path.join(data_path, \"customers_dirty.csv\"))\n",
    "payments = pd.read_csv(os.path.join(data_path, \"payments_dirty.csv\"))\n",
    "visits = pd.read_csv(os.path.join(data_path, \"visits_log_dirty.csv\"))\n",
    "units = pd.read_csv(os.path.join(data_path, \"units.csv\"))\n"
   ]
  },
  {
   "cell_type": "markdown",
   "id": "4212cc66",
   "metadata": {},
   "source": [
    "## Check general structure and duplicates\n"
   ]
  },
  {
   "cell_type": "code",
   "execution_count": 2,
   "id": "49d9b447",
   "metadata": {},
   "outputs": [
    {
     "name": "stdout",
     "output_type": "stream",
     "text": [
      "customers → 2200 rows, 18 columns\n",
      "Duplicates: 0\n",
      "----------------------------------------\n",
      "payments → 10000 rows, 7 columns\n",
      "Duplicates: 0\n",
      "----------------------------------------\n",
      "visits → 5000 rows, 5 columns\n",
      "Duplicates: 0\n",
      "----------------------------------------\n",
      "units → 500 rows, 4 columns\n",
      "Duplicates: 0\n",
      "----------------------------------------\n"
     ]
    }
   ],
   "source": [
    "datasets = {\n",
    "    \"customers\": customers,\n",
    "    \"payments\": payments,\n",
    "    \"visits\": visits,\n",
    "    \"units\": units\n",
    "}\n",
    "\n",
    "for name, df in datasets.items():\n",
    "    print(f\"{name} → {df.shape[0]} rows, {df.shape[1]} columns\")\n",
    "    print(\"Duplicates:\", df.duplicated().sum())\n",
    "    print(\"-\" * 40)\n"
   ]
  },
  {
   "cell_type": "code",
   "execution_count": 3,
   "id": "7096a04c",
   "metadata": {},
   "outputs": [
    {
     "name": "stdout",
     "output_type": "stream",
     "text": [
      "\n",
      "customers missing values:\n",
      "email                 59\n",
      "phone                 44\n",
      "lease_end             65\n",
      "monthly_fee           54\n",
      "last_payment_date    113\n",
      "notes                274\n",
      "dtype: int64\n",
      "\n",
      "payments missing values:\n",
      "note    1668\n",
      "dtype: int64\n",
      "\n",
      "units missing values:\n",
      "size_sqm    6\n",
      "dtype: int64\n"
     ]
    }
   ],
   "source": [
    "for name, df in datasets.items():\n",
    "    missing = df.isnull().sum()\n",
    "    missing = missing[missing > 0]\n",
    "    if not missing.empty:\n",
    "        print(f\"\\n{name} missing values:\")\n",
    "        print(missing)\n"
   ]
  },
  {
   "cell_type": "code",
   "execution_count": null,
   "id": "ba9ab222",
   "metadata": {},
   "outputs": [],
   "source": [
    "# Filling missing lease_end with 'active' (still renting)\n",
    "if \"lease_end\" in customers.columns:\n",
    "    customers[\"lease_end\"] = customers[\"lease_end\"].fillna(\"active\")\n",
    "\n",
    "# Filling monthly_fee and size_sqm with median\n",
    "if \"monthly_fee\" in customers.columns:\n",
    "    customers[\"monthly_fee\"] = customers[\"monthly_fee\"].fillna(customers[\"monthly_fee\"].median())\n",
    "\n",
    "if \"size_sqm\" in units.columns:\n",
    "    units[\"size_sqm\"] = units[\"size_sqm\"].fillna(units[\"size_sqm\"].median())\n"
   ]
  },
  {
   "cell_type": "code",
   "execution_count": null,
   "id": "e6ef0f5d",
   "metadata": {},
   "outputs": [
    {
     "name": "stdout",
     "output_type": "stream",
     "text": [
      "customers still has missing values:\n",
      "email                 59\n",
      "phone                 44\n",
      "last_payment_date    113\n",
      "notes                274\n",
      "dtype: int64\n",
      "\n",
      "units → no missing values in the filled columns.\n",
      "\n"
     ]
    }
   ],
   "source": [
    "# checking that missing values were filled\n",
    "for name, df in [(\"customers\", customers), (\"units\", units)]:\n",
    "    nulls = df.isnull().sum()\n",
    "    nulls = nulls[nulls > 0]\n",
    "    if not nulls.empty:\n",
    "        print(f\"{name} still has missing values:\\n{nulls}\\n\")\n",
    "    else:\n",
    "        print(f\"{name} → no missing values in the filled columns.\\n\")\n"
   ]
  },
  {
   "cell_type": "code",
   "execution_count": null,
   "id": "46c4b9e8",
   "metadata": {},
   "outputs": [
    {
     "name": "stdout",
     "output_type": "stream",
     "text": [
      "customers types checked.\n",
      "payments types checked.\n",
      "visits types checked.\n",
      "units types checked.\n"
     ]
    }
   ],
   "source": [
    "# checking for numeric columns that might be stored as text\n",
    "for name, df in datasets.items():\n",
    "    for col in df.columns:\n",
    "        if df[col].dtype == \"object\":\n",
    "            sample = df[col].dropna().astype(str).head(20).tolist()\n",
    "            if any(any(c.isalpha() for c in str(x)) for x in sample):\n",
    "                continue\n",
    "            try:\n",
    "                df[col] = pd.to_numeric(df[col])\n",
    "            except (ValueError, TypeError):\n",
    "                pass\n",
    "    print(f\"{name} types checked.\")\n"
   ]
  },
  {
   "cell_type": "code",
   "execution_count": null,
   "id": "9eec67a2",
   "metadata": {},
   "outputs": [],
   "source": [
    "# standardizing column names across all datasets\n",
    "for name, df in datasets.items():\n",
    "    df.columns = (\n",
    "        df.columns\n",
    "        .str.strip()\n",
    "        .str.lower()\n",
    "        .str.replace(\" \", \"_\")\n",
    "        .str.replace(\"-\", \"_\")\n",
    "    )\n"
   ]
  },
  {
   "cell_type": "code",
   "execution_count": 15,
   "id": "2dfe0b23",
   "metadata": {},
   "outputs": [
    {
     "name": "stdout",
     "output_type": "stream",
     "text": [
      "customers columns: ['customer_id', 'first_name', 'last_name', 'email', 'phone', 'street_address', 'city', 'postal_code', 'country', 'sign_up_date', 'lease_start', 'lease_end', 'unit_id', 'unit_size', 'monthly_fee', 'payment_status', 'last_payment_date', 'notes']\n",
      "\n",
      "payments columns: ['transaction_id', 'customer_id', 'date', 'amount', 'method', 'status', 'note']\n",
      "\n",
      "visits columns: ['visit_id', 'customer_id', 'unit_id', 'visited_at', 'purpose']\n",
      "\n",
      "units columns: ['unit_id', 'canonical_unit_id', 'size_sqm', 'monthly_fee']\n",
      "\n"
     ]
    }
   ],
   "source": [
    "for name, df in datasets.items():\n",
    "    print(f\"{name} columns: {list(df.columns)}\\n\")\n"
   ]
  },
  {
   "cell_type": "code",
   "execution_count": null,
   "id": "9ae2776f",
   "metadata": {},
   "outputs": [
    {
     "name": "stdout",
     "output_type": "stream",
     "text": [
      "customers saved to ../Data/cleaned/customers_clean.csv\n",
      "payments saved to ../Data/cleaned/payments_clean.csv\n",
      "visits saved to ../Data/cleaned/visits_clean.csv\n",
      "units saved to ../Data/cleaned/units_clean.csv\n"
     ]
    }
   ],
   "source": [
    "import os\n",
    "\n",
    "# Creating cleaned data folder if it doesn't exist\n",
    "clean_path = \"../Data/cleaned\"\n",
    "os.makedirs(clean_path, exist_ok=True)\n",
    "\n",
    "# Exporting each cleaned dataset\n",
    "for name, df in datasets.items():\n",
    "    file_path = os.path.join(clean_path, f\"{name}_clean.csv\")\n",
    "    df.to_csv(file_path, index=False)\n",
    "    print(f\"{name} saved to {file_path}\")\n"
   ]
  }
 ],
 "metadata": {
  "kernelspec": {
   "display_name": "venv",
   "language": "python",
   "name": "python3"
  },
  "language_info": {
   "codemirror_mode": {
    "name": "ipython",
    "version": 3
   },
   "file_extension": ".py",
   "mimetype": "text/x-python",
   "name": "python",
   "nbconvert_exporter": "python",
   "pygments_lexer": "ipython3",
   "version": "3.12.3"
  }
 },
 "nbformat": 4,
 "nbformat_minor": 5
}
