{
 "cells": [
  {
   "cell_type": "code",
   "execution_count": 6,
   "id": "b376279b",
   "metadata": {},
   "outputs": [
    {
     "name": "stdout",
     "output_type": "stream",
     "text": [
      "Current working directory: /Users/boukaskasbrahim/Desktop/storage-company-data\n",
      "Files here: ['.DS_Store', 'requirements.txt', 'storage-company-data.code-workspace', 'README.md', '.gitignore', 'README.txt', 'venv', '.git', 'Data', 'notebooks']\n"
     ]
    }
   ],
   "source": [
    "import os\n",
    "print(\"Current working directory:\", os.getcwd())\n",
    "print(\"Files here:\", os.listdir())\n"
   ]
  },
  {
   "cell_type": "code",
   "execution_count": null,
   "id": "1a407f8e",
   "metadata": {},
   "outputs": [
    {
     "name": "stdout",
     "output_type": "stream",
     "text": [
      "Customers: 2200 rows × 18 columns\n",
      "Payments: 10000 rows × 7 columns\n",
      "Visits: 5000 rows × 5 columns\n",
      "Units: 500 rows × 4 columns\n"
     ]
    }
   ],
   "source": [
    "# ---- Setup ----\n",
    "import pandas as pd\n",
    "import numpy as np\n",
    "import matplotlib.pyplot as plt\n",
    "import seaborn as sns\n",
    "import os\n",
    "\n",
    "# Displaying options for better readability\n",
    "pd.set_option('display.max_columns', None)\n",
    "pd.set_option('display.max_rows', 10)\n",
    "\n",
    "# Defining the data path\n",
    "data_path = \"Data\"\n",
    "\n",
    "\n",
    "# ---- Loading data ----\n",
    "customers = pd.read_csv(os.path.join(data_path, \"customers_dirty.csv\"))\n",
    "payments = pd.read_csv(os.path.join(data_path, \"payments_dirty.csv\"))\n",
    "visits = pd.read_csv(os.path.join(data_path, \"visits_log_dirty.csv\"))\n",
    "units = pd.read_csv(os.path.join(data_path, \"units.csv\"))\n",
    "\n",
    "# Showing dimensions\n",
    "for name, df in {\n",
    "    \"Customers\": customers,\n",
    "    \"Payments\": payments,\n",
    "    \"Visits\": visits,\n",
    "    \"Units\": units\n",
    "}.items():\n",
    "    print(f\"{name}: {df.shape[0]} rows × {df.shape[1]} columns\")\n",
    "\n"
   ]
  },
  {
   "cell_type": "code",
   "execution_count": null,
   "id": "bb7b0e14",
   "metadata": {},
   "outputs": [],
   "source": []
  }
 ],
 "metadata": {
  "kernelspec": {
   "display_name": "venv",
   "language": "python",
   "name": "python3"
  },
  "language_info": {
   "codemirror_mode": {
    "name": "ipython",
    "version": 3
   },
   "file_extension": ".py",
   "mimetype": "text/x-python",
   "name": "python",
   "nbconvert_exporter": "python",
   "pygments_lexer": "ipython3",
   "version": "3.12.3"
  }
 },
 "nbformat": 4,
 "nbformat_minor": 5
}
