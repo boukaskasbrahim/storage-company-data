{
 "cells": [
  {
   "cell_type": "markdown",
   "id": "cfb3281c",
   "metadata": {},
   "source": [
    "## 03 – Build Local Database\n",
    "\n",
    "This notebook creates a local SQLite database for the storage company project.  \n",
    "All cleaned tables are stored as SQL tables so we can query them later for modeling or dashboards.\n"
   ]
  },
  {
   "cell_type": "code",
   "execution_count": 1,
   "id": "cd077667",
   "metadata": {},
   "outputs": [
    {
     "name": "stdout",
     "output_type": "stream",
     "text": [
      "Database created at: /Users/boukaskasbrahim/Desktop/storage-company-data/Data/storage_company.db\n"
     ]
    }
   ],
   "source": [
    "import pandas as pd\n",
    "import sqlite3\n",
    "import os\n",
    "\n",
    "# detect base folder (handles iCloud or normal Desktop)\n",
    "base_dir = os.path.expanduser(\"~/iCloud Drive/Desktop/storage-company-data\")\n",
    "if not os.path.exists(base_dir):\n",
    "    base_dir = os.path.expanduser(\"~/Desktop/storage-company-data\")\n",
    "\n",
    "# define paths\n",
    "clean_path = os.path.join(base_dir, \"Data\", \"cleaned\")\n",
    "db_path = os.path.join(base_dir, \"Data\", \"storage_company.db\")\n",
    "\n",
    "# make sure Data folder exists\n",
    "os.makedirs(os.path.dirname(db_path), exist_ok=True)\n",
    "\n",
    "# create the database connection\n",
    "conn = sqlite3.connect(db_path)\n",
    "\n",
    "print(\"Database created at:\", os.path.abspath(db_path))\n"
   ]
  },
  {
   "cell_type": "code",
   "execution_count": 3,
   "id": "ed08bc08",
   "metadata": {},
   "outputs": [
    {
     "name": "stdout",
     "output_type": "stream",
     "text": [
      "Cleaned files reloaded successfully.\n"
     ]
    }
   ],
   "source": [
    "# reload the cleaned CSVs into pandas DataFrames\n",
    "customers = pd.read_csv(os.path.join(clean_path, \"customers_clean.csv\"))\n",
    "payments = pd.read_csv(os.path.join(clean_path, \"payments_clean.csv\"))\n",
    "visits = pd.read_csv(os.path.join(clean_path, \"visits_clean.csv\"))\n",
    "units = pd.read_csv(os.path.join(clean_path, \"units_clean.csv\"))\n",
    "\n",
    "print(\"Cleaned files reloaded successfully.\")\n"
   ]
  },
  {
   "cell_type": "code",
   "execution_count": 4,
   "id": "eff78bb7",
   "metadata": {},
   "outputs": [
    {
     "name": "stdout",
     "output_type": "stream",
     "text": [
      "All tables stored successfully in the database.\n"
     ]
    }
   ],
   "source": [
    "customers.to_sql(\"customers\", conn, if_exists=\"replace\", index=False)\n",
    "payments.to_sql(\"payments\", conn, if_exists=\"replace\", index=False)\n",
    "visits.to_sql(\"visits\", conn, if_exists=\"replace\", index=False)\n",
    "units.to_sql(\"units\", conn, if_exists=\"replace\", index=False)\n",
    "\n",
    "conn.commit()\n",
    "print(\"All tables stored successfully in the database.\")\n"
   ]
  },
  {
   "cell_type": "code",
   "execution_count": 5,
   "id": "36970d7b",
   "metadata": {},
   "outputs": [
    {
     "name": "stdout",
     "output_type": "stream",
     "text": [
      "Tables in database:\n",
      "         name\n",
      "0  customers\n",
      "1   payments\n",
      "2     visits\n",
      "3      units\n"
     ]
    }
   ],
   "source": [
    "tables = pd.read_sql_query(\"SELECT name FROM sqlite_master WHERE type='table';\", conn)\n",
    "print(\"Tables in database:\\n\", tables)\n"
   ]
  },
  {
   "cell_type": "code",
   "execution_count": 6,
   "id": "b9516902",
   "metadata": {},
   "outputs": [
    {
     "name": "stdout",
     "output_type": "stream",
     "text": [
      "customers: 2200 rows\n",
      "payments: 10000 rows\n",
      "visits: 5000 rows\n",
      "units: 500 rows\n"
     ]
    }
   ],
   "source": [
    "for table in [\"customers\", \"payments\", \"visits\", \"units\"]:\n",
    "    result = pd.read_sql_query(f\"SELECT COUNT(*) AS rows FROM {table};\", conn)\n",
    "    print(f\"{table}: {result['rows'][0]} rows\")\n"
   ]
  }
 ],
 "metadata": {
  "kernelspec": {
   "display_name": "venv",
   "language": "python",
   "name": "python3"
  },
  "language_info": {
   "codemirror_mode": {
    "name": "ipython",
    "version": 3
   },
   "file_extension": ".py",
   "mimetype": "text/x-python",
   "name": "python",
   "nbconvert_exporter": "python",
   "pygments_lexer": "ipython3",
   "version": "3.12.3"
  }
 },
 "nbformat": 4,
 "nbformat_minor": 5
}
